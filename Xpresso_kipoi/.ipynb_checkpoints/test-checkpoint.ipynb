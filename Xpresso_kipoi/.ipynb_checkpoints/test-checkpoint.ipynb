{
 "cells": [
  {
   "cell_type": "code",
   "execution_count": 1,
   "metadata": {},
   "outputs": [],
   "source": [
    "# Imports\n",
    "import kipoi\n",
    "import os\n",
    "import numpy as np\n",
    "import pandas as pd"
   ]
  },
  {
   "cell_type": "markdown",
   "metadata": {},
   "source": [
    "### Source Model"
   ]
  },
  {
   "cell_type": "code",
   "execution_count": 2,
   "metadata": {},
   "outputs": [
    {
     "name": "stdout",
     "output_type": "stream",
     "text": [
      "Using downloaded and verified file: /data/nasif12/home_if12/karollus/5UTRModel/kipoi/models/Xpresso/downloaded/model_files/human_median/weights/9d00a3bc614da81655328b6e278569e2\n",
      "WARNING:tensorflow:From /opt/modules/i12g/anaconda/envs/kipoi-Framepool2/lib/python3.6/site-packages/tensorflow/python/framework/op_def_library.py:263: colocate_with (from tensorflow.python.framework.ops) is deprecated and will be removed in a future version.\n",
      "Instructions for updating:\n",
      "Colocations handled automatically by placer.\n",
      "WARNING:tensorflow:From /opt/modules/i12g/anaconda/envs/kipoi-Framepool2/lib/python3.6/site-packages/keras/backend/tensorflow_backend.py:3445: calling dropout (from tensorflow.python.ops.nn_ops) with keep_prob is deprecated and will be removed in a future version.\n",
      "Instructions for updating:\n",
      "Please use `rate` instead of `keep_prob`. Rate should be set to `rate = 1 - keep_prob`.\n",
      "WARNING:tensorflow:From /opt/modules/i12g/anaconda/envs/kipoi-Framepool2/lib/python3.6/site-packages/tensorflow/python/ops/math_ops.py:3066: to_int32 (from tensorflow.python.ops.math_ops) is deprecated and will be removed in a future version.\n",
      "Instructions for updating:\n",
      "Use tf.cast instead.\n"
     ]
    },
    {
     "name": "stderr",
     "output_type": "stream",
     "text": [
      "/opt/modules/i12g/anaconda/envs/kipoi-Framepool2/lib/python3.6/site-packages/keras/engine/saving.py:327: UserWarning: Error in loading the saved optimizer state. As a result, your model is starting with a freshly initialized optimizer.\n",
      "  warnings.warn('Error in loading the saved optimizer '\n"
     ]
    }
   ],
   "source": [
    "# Source model directly from directory\n",
    "model = kipoi.get_model(\"../Xpresso/human_median\", source=\"dir\")"
   ]
  },
  {
   "cell_type": "markdown",
   "metadata": {},
   "source": [
    "### Download and prepare example files (optional)"
   ]
  },
  {
   "cell_type": "code",
   "execution_count": 3,
   "metadata": {},
   "outputs": [],
   "source": [
    "import urllib.request\n",
    "import gzip\n",
    "import shutil\n",
    "import pyranges as pr"
   ]
  },
  {
   "cell_type": "code",
   "execution_count": 4,
   "metadata": {},
   "outputs": [],
   "source": [
    "# make ExampleFile directory if it does not exist\n",
    "if not os.path.exists(\"ExampleFiles\"):\n",
    "    os.makedirs(\"ExampleFiles\")"
   ]
  },
  {
   "cell_type": "code",
   "execution_count": 5,
   "metadata": {},
   "outputs": [
    {
     "data": {
      "text/plain": [
       "('ExampleFiles/chrom22.fa', <http.client.HTTPMessage at 0x2b3dc7563668>)"
      ]
     },
     "execution_count": 5,
     "metadata": {},
     "output_type": "execute_result"
    }
   ],
   "source": [
    "# Download GTF\n",
    "urllib.request.urlretrieve(\"https://zenodo.org/record/1466102/files/example_files-gencode.v24.annotation_chr22.gtf?download=1\", 'ExampleFiles/chrom22.gtf')\n",
    "# Download fasta\n",
    "urllib.request.urlretrieve(\"https://zenodo.org/record/1466102/files/example_files-hg38_chr22.fa?download=1\", 'ExampleFiles/chrom22.fa')"
   ]
  },
  {
   "cell_type": "code",
   "execution_count": 6,
   "metadata": {},
   "outputs": [],
   "source": [
    "# Extract implied TSS sites from gtf\n",
    "# Read in with pyranges\n",
    "gr = pr.read_gtf('ExampleFiles/chrom22.gtf')\n",
    "# Extract protein coding genes\n",
    "prot_genes = gr.df[(gr.df.Feature == 'gene') & (gr.df.gene_type == 'protein_coding')]\n",
    "# Compute implied TSS\n",
    "prot_genes['TSS'] = (prot_genes.Start * (prot_genes.Strand == \"+\")) + (prot_genes.End * (prot_genes.Strand == \"-\"))\n",
    "# Determine region around TSS\n",
    "# (Not sure about how the model deals with strand, here I assume it always takes the + strand)\n",
    "prot_genes['region_start'] = prot_genes.TSS - 7000\n",
    "prot_genes['region_end'] = prot_genes.TSS + 3500"
   ]
  },
  {
   "cell_type": "code",
   "execution_count": 7,
   "metadata": {},
   "outputs": [],
   "source": [
    "# write bed file\n",
    "bed = prot_genes[['Chromosome', 'region_start', 'region_end']]\n",
    "bed.to_csv(\"ExampleFiles/chrom22.bed\", sep='\\t', header=False, index=False)"
   ]
  },
  {
   "cell_type": "markdown",
   "metadata": {},
   "source": [
    "### Provide the Parameters"
   ]
  },
  {
   "cell_type": "code",
   "execution_count": 8,
   "metadata": {},
   "outputs": [],
   "source": [
    "# Path of the fasta file\n",
    "fasta_path = \"ExampleFiles/chrom22.fa\"\n",
    "# Set false if fasta has a chr prefix, true otherwise\n",
    "num_chr = False\n",
    "\n",
    "# Path of the bed file specifying the promoter regions\n",
    "bed_path = \"ExampleFiles/chrom22.bed\"\n",
    "\n",
    "# output file path\n",
    "output_file_path = \"predictions.tsv\""
   ]
  },
  {
   "cell_type": "markdown",
   "metadata": {},
   "source": [
    "### Run Prediction"
   ]
  },
  {
   "cell_type": "code",
   "execution_count": 9,
   "metadata": {},
   "outputs": [
    {
     "name": "stderr",
     "output_type": "stream",
     "text": [
      "100%|██████████| 7/7 [00:11<00:00,  1.64s/it]\n"
     ]
    }
   ],
   "source": [
    "model.pipeline.predict_to_file(output_file_path, {\"intervals_file\":bed_path, \n",
    "                               \"fasta_file\":fasta_path,\n",
    "                               \"num_chr_fasta\":num_chr},\n",
    "                              batch_size=64)"
   ]
  },
  {
   "cell_type": "markdown",
   "metadata": {},
   "source": [
    "### Load results"
   ]
  },
  {
   "cell_type": "code",
   "execution_count": 10,
   "metadata": {},
   "outputs": [
    {
     "data": {
      "text/html": [
       "<div>\n",
       "<style scoped>\n",
       "    .dataframe tbody tr th:only-of-type {\n",
       "        vertical-align: middle;\n",
       "    }\n",
       "\n",
       "    .dataframe tbody tr th {\n",
       "        vertical-align: top;\n",
       "    }\n",
       "\n",
       "    .dataframe thead th {\n",
       "        text-align: right;\n",
       "    }\n",
       "</style>\n",
       "<table border=\"1\" class=\"dataframe\">\n",
       "  <thead>\n",
       "    <tr style=\"text-align: right;\">\n",
       "      <th></th>\n",
       "      <th>metadata/ranges/chr</th>\n",
       "      <th>metadata/ranges/end</th>\n",
       "      <th>metadata/ranges/id</th>\n",
       "      <th>metadata/ranges/start</th>\n",
       "      <th>metadata/ranges/strand</th>\n",
       "      <th>preds/expression_pred</th>\n",
       "    </tr>\n",
       "  </thead>\n",
       "  <tbody>\n",
       "    <tr>\n",
       "      <th>0</th>\n",
       "      <td>chr22</td>\n",
       "      <td>11070000</td>\n",
       "      <td>0</td>\n",
       "      <td>11059500</td>\n",
       "      <td>*</td>\n",
       "      <td>-0.097702</td>\n",
       "    </tr>\n",
       "    <tr>\n",
       "      <th>1</th>\n",
       "      <td>chr22</td>\n",
       "      <td>15531657</td>\n",
       "      <td>1</td>\n",
       "      <td>15521157</td>\n",
       "      <td>*</td>\n",
       "      <td>-1.052358</td>\n",
       "    </tr>\n",
       "    <tr>\n",
       "      <th>2</th>\n",
       "      <td>chr22</td>\n",
       "      <td>15693525</td>\n",
       "      <td>2</td>\n",
       "      <td>15683025</td>\n",
       "      <td>*</td>\n",
       "      <td>-0.806651</td>\n",
       "    </tr>\n",
       "    <tr>\n",
       "      <th>3</th>\n",
       "      <td>chr22</td>\n",
       "      <td>17088453</td>\n",
       "      <td>3</td>\n",
       "      <td>17077953</td>\n",
       "      <td>*</td>\n",
       "      <td>0.872204</td>\n",
       "    </tr>\n",
       "    <tr>\n",
       "      <th>4</th>\n",
       "      <td>chr22</td>\n",
       "      <td>17363448</td>\n",
       "      <td>4</td>\n",
       "      <td>17352948</td>\n",
       "      <td>*</td>\n",
       "      <td>-0.903286</td>\n",
       "    </tr>\n",
       "    <tr>\n",
       "      <th>...</th>\n",
       "      <td>...</td>\n",
       "      <td>...</td>\n",
       "      <td>...</td>\n",
       "      <td>...</td>\n",
       "      <td>...</td>\n",
       "      <td>...</td>\n",
       "    </tr>\n",
       "    <tr>\n",
       "      <th>434</th>\n",
       "      <td>chr22</td>\n",
       "      <td>50581965</td>\n",
       "      <td>434</td>\n",
       "      <td>50571465</td>\n",
       "      <td>*</td>\n",
       "      <td>-0.321695</td>\n",
       "    </tr>\n",
       "    <tr>\n",
       "      <th>435</th>\n",
       "      <td>chr22</td>\n",
       "      <td>50586465</td>\n",
       "      <td>435</td>\n",
       "      <td>50575965</td>\n",
       "      <td>*</td>\n",
       "      <td>1.100558</td>\n",
       "    </tr>\n",
       "    <tr>\n",
       "      <th>436</th>\n",
       "      <td>chr22</td>\n",
       "      <td>50604955</td>\n",
       "      <td>436</td>\n",
       "      <td>50594455</td>\n",
       "      <td>*</td>\n",
       "      <td>-0.210289</td>\n",
       "    </tr>\n",
       "    <tr>\n",
       "      <th>437</th>\n",
       "      <td>chr22</td>\n",
       "      <td>50631673</td>\n",
       "      <td>437</td>\n",
       "      <td>50621173</td>\n",
       "      <td>*</td>\n",
       "      <td>0.941688</td>\n",
       "    </tr>\n",
       "    <tr>\n",
       "      <th>438</th>\n",
       "      <td>chr22</td>\n",
       "      <td>50787163</td>\n",
       "      <td>438</td>\n",
       "      <td>50776663</td>\n",
       "      <td>*</td>\n",
       "      <td>0.565922</td>\n",
       "    </tr>\n",
       "  </tbody>\n",
       "</table>\n",
       "<p>439 rows × 6 columns</p>\n",
       "</div>"
      ],
      "text/plain": [
       "    metadata/ranges/chr  metadata/ranges/end  metadata/ranges/id  \\\n",
       "0                 chr22             11070000                   0   \n",
       "1                 chr22             15531657                   1   \n",
       "2                 chr22             15693525                   2   \n",
       "3                 chr22             17088453                   3   \n",
       "4                 chr22             17363448                   4   \n",
       "..                  ...                  ...                 ...   \n",
       "434               chr22             50581965                 434   \n",
       "435               chr22             50586465                 435   \n",
       "436               chr22             50604955                 436   \n",
       "437               chr22             50631673                 437   \n",
       "438               chr22             50787163                 438   \n",
       "\n",
       "     metadata/ranges/start metadata/ranges/strand  preds/expression_pred  \n",
       "0                 11059500                      *              -0.097702  \n",
       "1                 15521157                      *              -1.052358  \n",
       "2                 15683025                      *              -0.806651  \n",
       "3                 17077953                      *               0.872204  \n",
       "4                 17352948                      *              -0.903286  \n",
       "..                     ...                    ...                    ...  \n",
       "434               50571465                      *              -0.321695  \n",
       "435               50575965                      *               1.100558  \n",
       "436               50594455                      *              -0.210289  \n",
       "437               50621173                      *               0.941688  \n",
       "438               50776663                      *               0.565922  \n",
       "\n",
       "[439 rows x 6 columns]"
      ]
     },
     "execution_count": 10,
     "metadata": {},
     "output_type": "execute_result"
    }
   ],
   "source": [
    "# Load data as dataframe\n",
    "df = pd.read_csv(output_file_path, sep=\"\\t\")\n",
    "df"
   ]
  },
  {
   "cell_type": "code",
   "execution_count": null,
   "metadata": {},
   "outputs": [],
   "source": []
  }
 ],
 "metadata": {
  "kernelspec": {
   "display_name": "Python [conda env:anaconda-kipoi-Framepool2]",
   "language": "python",
   "name": "conda-env-anaconda-kipoi-Framepool2-py"
  },
  "language_info": {
   "codemirror_mode": {
    "name": "ipython",
    "version": 3
   },
   "file_extension": ".py",
   "mimetype": "text/x-python",
   "name": "python",
   "nbconvert_exporter": "python",
   "pygments_lexer": "ipython3",
   "version": "3.6.7"
  }
 },
 "nbformat": 4,
 "nbformat_minor": 4
}
